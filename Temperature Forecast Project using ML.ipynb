{
 "cells": [
  {
   "cell_type": "code",
   "execution_count": 1,
   "id": "6fc6d196",
   "metadata": {
    "execution": {
     "iopub.execute_input": "2021-07-12T07:59:02.730956Z",
     "iopub.status.busy": "2021-07-12T07:59:02.730040Z",
     "iopub.status.idle": "2021-07-12T07:59:10.397731Z",
     "shell.execute_reply": "2021-07-12T07:59:10.398249Z",
     "shell.execute_reply.started": "2021-07-12T07:55:47.837454Z"
    },
    "papermill": {
     "duration": 7.708788,
     "end_time": "2021-07-12T07:59:10.398564",
     "exception": false,
     "start_time": "2021-07-12T07:59:02.689776",
     "status": "completed"
    },
    "tags": []
   },
   "outputs": [
    {
     "data": {
      "text/html": [
       "<style type='text/css'>\n",
       ".datatable table.frame { margin-bottom: 0; }\n",
       ".datatable table.frame thead { border-bottom: none; }\n",
       ".datatable table.frame tr.coltypes td {  color: #FFFFFF;  line-height: 6px;  padding: 0 0.5em;}\n",
       ".datatable .bool    { background: #DDDD99; }\n",
       ".datatable .object  { background: #565656; }\n",
       ".datatable .int     { background: #5D9E5D; }\n",
       ".datatable .float   { background: #4040CC; }\n",
       ".datatable .str     { background: #CC4040; }\n",
       ".datatable .time    { background: #40CC40; }\n",
       ".datatable .row_index {  background: var(--jp-border-color3);  border-right: 1px solid var(--jp-border-color0);  color: var(--jp-ui-font-color3);  font-size: 9px;}\n",
       ".datatable .frame tbody td { text-align: left; }\n",
       ".datatable .frame tr.coltypes .row_index {  background: var(--jp-border-color0);}\n",
       ".datatable th:nth-child(2) { padding-left: 12px; }\n",
       ".datatable .hellipsis {  color: var(--jp-cell-editor-border-color);}\n",
       ".datatable .vellipsis {  background: var(--jp-layout-color0);  color: var(--jp-cell-editor-border-color);}\n",
       ".datatable .na {  color: var(--jp-cell-editor-border-color);  font-size: 80%;}\n",
       ".datatable .sp {  opacity: 0.25;}\n",
       ".datatable .footer { font-size: 9px; }\n",
       ".datatable .frame_dimensions {  background: var(--jp-border-color3);  border-top: 1px solid var(--jp-border-color0);  color: var(--jp-ui-font-color3);  display: inline-block;  opacity: 0.6;  padding: 1px 10px 1px 5px;}\n",
       "</style>\n"
      ],
      "text/plain": [
       "<IPython.core.display.HTML object>"
      ]
     },
     "metadata": {},
     "output_type": "display_data"
    }
   ],
   "source": [
    "import os\n",
    "import numpy as np\n",
    "import pandas as pd\n",
    "import random\n",
    "import matplotlib.pyplot as plt\n",
    "import seaborn as sns\n",
    "\n",
    "from contextlib import contextmanager\n",
    "from time import time\n",
    "from tqdm import tqdm\n",
    "import lightgbm as lgbm\n",
    "import category_encoders as ce\n",
    "\n",
    "from tensorflow.keras.utils import to_categorical\n",
    "from sklearn.metrics import classification_report, log_loss, accuracy_score\n",
    "from sklearn.metrics import mean_squared_error\n",
    "from sklearn.model_selection import KFold"
   ]
  },
  {
   "cell_type": "markdown",
   "id": "cd3c0eb8",
   "metadata": {
    "papermill": {
     "duration": 0.026534,
     "end_time": "2021-07-12T07:59:10.453280",
     "exception": false,
     "start_time": "2021-07-12T07:59:10.426746",
     "status": "completed"
    },
    "tags": []
   },
   "source": [
    "# Data preparation"
   ]
  },
  {
   "cell_type": "code",
   "execution_count": 2,
   "id": "f4992127",
   "metadata": {
    "execution": {
     "iopub.execute_input": "2021-07-12T07:59:10.510406Z",
     "iopub.status.busy": "2021-07-12T07:59:10.509801Z",
     "iopub.status.idle": "2021-07-12T07:59:10.604898Z",
     "shell.execute_reply": "2021-07-12T07:59:10.605329Z",
     "shell.execute_reply.started": "2021-07-12T07:55:47.849057Z"
    },
    "papermill": {
     "duration": 0.125179,
     "end_time": "2021-07-12T07:59:10.605495",
     "exception": false,
     "start_time": "2021-07-12T07:59:10.480316",
     "status": "completed"
    },
    "tags": []
   },
   "outputs": [
    {
     "data": {
      "text/html": [
       "<div>\n",
       "<style scoped>\n",
       "    .dataframe tbody tr th:only-of-type {\n",
       "        vertical-align: middle;\n",
       "    }\n",
       "\n",
       "    .dataframe tbody tr th {\n",
       "        vertical-align: top;\n",
       "    }\n",
       "\n",
       "    .dataframe thead th {\n",
       "        text-align: right;\n",
       "    }\n",
       "</style>\n",
       "<table border=\"1\" class=\"dataframe\">\n",
       "  <thead>\n",
       "    <tr style=\"text-align: right;\">\n",
       "      <th></th>\n",
       "      <th>0</th>\n",
       "      <th>1</th>\n",
       "      <th>2</th>\n",
       "      <th>3</th>\n",
       "      <th>4</th>\n",
       "    </tr>\n",
       "  </thead>\n",
       "  <tbody>\n",
       "    <tr>\n",
       "      <th>station</th>\n",
       "      <td>1.0</td>\n",
       "      <td>2.0</td>\n",
       "      <td>3.0</td>\n",
       "      <td>4.0</td>\n",
       "      <td>5.0</td>\n",
       "    </tr>\n",
       "    <tr>\n",
       "      <th>Date</th>\n",
       "      <td>30-06-2013</td>\n",
       "      <td>30-06-2013</td>\n",
       "      <td>30-06-2013</td>\n",
       "      <td>30-06-2013</td>\n",
       "      <td>30-06-2013</td>\n",
       "    </tr>\n",
       "    <tr>\n",
       "      <th>Present_Tmax</th>\n",
       "      <td>28.7</td>\n",
       "      <td>31.9</td>\n",
       "      <td>31.6</td>\n",
       "      <td>32.0</td>\n",
       "      <td>31.4</td>\n",
       "    </tr>\n",
       "    <tr>\n",
       "      <th>Present_Tmin</th>\n",
       "      <td>21.4</td>\n",
       "      <td>21.6</td>\n",
       "      <td>23.3</td>\n",
       "      <td>23.4</td>\n",
       "      <td>21.9</td>\n",
       "    </tr>\n",
       "    <tr>\n",
       "      <th>LDAPS_RHmin</th>\n",
       "      <td>58.255688</td>\n",
       "      <td>52.263397</td>\n",
       "      <td>48.690479</td>\n",
       "      <td>58.239788</td>\n",
       "      <td>56.174095</td>\n",
       "    </tr>\n",
       "    <tr>\n",
       "      <th>LDAPS_RHmax</th>\n",
       "      <td>91.116364</td>\n",
       "      <td>90.604721</td>\n",
       "      <td>83.973587</td>\n",
       "      <td>96.483688</td>\n",
       "      <td>90.155128</td>\n",
       "    </tr>\n",
       "    <tr>\n",
       "      <th>LDAPS_Tmax_lapse</th>\n",
       "      <td>28.074101</td>\n",
       "      <td>29.850689</td>\n",
       "      <td>30.091292</td>\n",
       "      <td>29.704629</td>\n",
       "      <td>29.113934</td>\n",
       "    </tr>\n",
       "    <tr>\n",
       "      <th>LDAPS_Tmin_lapse</th>\n",
       "      <td>23.006936</td>\n",
       "      <td>24.035009</td>\n",
       "      <td>24.565633</td>\n",
       "      <td>23.326177</td>\n",
       "      <td>23.48648</td>\n",
       "    </tr>\n",
       "    <tr>\n",
       "      <th>LDAPS_WS</th>\n",
       "      <td>6.818887</td>\n",
       "      <td>5.69189</td>\n",
       "      <td>6.138224</td>\n",
       "      <td>5.65005</td>\n",
       "      <td>5.735004</td>\n",
       "    </tr>\n",
       "    <tr>\n",
       "      <th>LDAPS_LH</th>\n",
       "      <td>69.451805</td>\n",
       "      <td>51.937448</td>\n",
       "      <td>20.57305</td>\n",
       "      <td>65.727144</td>\n",
       "      <td>107.965535</td>\n",
       "    </tr>\n",
       "    <tr>\n",
       "      <th>LDAPS_CC1</th>\n",
       "      <td>0.233947</td>\n",
       "      <td>0.225508</td>\n",
       "      <td>0.209344</td>\n",
       "      <td>0.216372</td>\n",
       "      <td>0.151407</td>\n",
       "    </tr>\n",
       "    <tr>\n",
       "      <th>LDAPS_CC2</th>\n",
       "      <td>0.203896</td>\n",
       "      <td>0.251771</td>\n",
       "      <td>0.257469</td>\n",
       "      <td>0.226002</td>\n",
       "      <td>0.249995</td>\n",
       "    </tr>\n",
       "    <tr>\n",
       "      <th>LDAPS_CC3</th>\n",
       "      <td>0.161697</td>\n",
       "      <td>0.159444</td>\n",
       "      <td>0.204091</td>\n",
       "      <td>0.161157</td>\n",
       "      <td>0.178892</td>\n",
       "    </tr>\n",
       "    <tr>\n",
       "      <th>LDAPS_CC4</th>\n",
       "      <td>0.130928</td>\n",
       "      <td>0.127727</td>\n",
       "      <td>0.142125</td>\n",
       "      <td>0.134249</td>\n",
       "      <td>0.170021</td>\n",
       "    </tr>\n",
       "    <tr>\n",
       "      <th>LDAPS_PPT1</th>\n",
       "      <td>0.0</td>\n",
       "      <td>0.0</td>\n",
       "      <td>0.0</td>\n",
       "      <td>0.0</td>\n",
       "      <td>0.0</td>\n",
       "    </tr>\n",
       "    <tr>\n",
       "      <th>LDAPS_PPT2</th>\n",
       "      <td>0.0</td>\n",
       "      <td>0.0</td>\n",
       "      <td>0.0</td>\n",
       "      <td>0.0</td>\n",
       "      <td>0.0</td>\n",
       "    </tr>\n",
       "    <tr>\n",
       "      <th>LDAPS_PPT3</th>\n",
       "      <td>0.0</td>\n",
       "      <td>0.0</td>\n",
       "      <td>0.0</td>\n",
       "      <td>0.0</td>\n",
       "      <td>0.0</td>\n",
       "    </tr>\n",
       "    <tr>\n",
       "      <th>LDAPS_PPT4</th>\n",
       "      <td>0.0</td>\n",
       "      <td>0.0</td>\n",
       "      <td>0.0</td>\n",
       "      <td>0.0</td>\n",
       "      <td>0.0</td>\n",
       "    </tr>\n",
       "    <tr>\n",
       "      <th>lat</th>\n",
       "      <td>37.6046</td>\n",
       "      <td>37.6046</td>\n",
       "      <td>37.5776</td>\n",
       "      <td>37.645</td>\n",
       "      <td>37.5507</td>\n",
       "    </tr>\n",
       "    <tr>\n",
       "      <th>lon</th>\n",
       "      <td>126.991</td>\n",
       "      <td>127.032</td>\n",
       "      <td>127.058</td>\n",
       "      <td>127.022</td>\n",
       "      <td>127.135</td>\n",
       "    </tr>\n",
       "    <tr>\n",
       "      <th>DEM</th>\n",
       "      <td>212.335</td>\n",
       "      <td>44.7624</td>\n",
       "      <td>33.3068</td>\n",
       "      <td>45.716</td>\n",
       "      <td>35.038</td>\n",
       "    </tr>\n",
       "    <tr>\n",
       "      <th>Slope</th>\n",
       "      <td>2.785</td>\n",
       "      <td>0.5141</td>\n",
       "      <td>0.2661</td>\n",
       "      <td>2.5348</td>\n",
       "      <td>0.5055</td>\n",
       "    </tr>\n",
       "    <tr>\n",
       "      <th>Solar radiation</th>\n",
       "      <td>5992.895996</td>\n",
       "      <td>5869.3125</td>\n",
       "      <td>5863.555664</td>\n",
       "      <td>5856.964844</td>\n",
       "      <td>5859.552246</td>\n",
       "    </tr>\n",
       "    <tr>\n",
       "      <th>Next_Tmax</th>\n",
       "      <td>29.1</td>\n",
       "      <td>30.5</td>\n",
       "      <td>31.1</td>\n",
       "      <td>31.7</td>\n",
       "      <td>31.2</td>\n",
       "    </tr>\n",
       "    <tr>\n",
       "      <th>Next_Tmin</th>\n",
       "      <td>21.2</td>\n",
       "      <td>22.5</td>\n",
       "      <td>23.9</td>\n",
       "      <td>24.3</td>\n",
       "      <td>22.5</td>\n",
       "    </tr>\n",
       "  </tbody>\n",
       "</table>\n",
       "</div>"
      ],
      "text/plain": [
       "                            0           1            2            3  \\\n",
       "station                   1.0         2.0          3.0          4.0   \n",
       "Date               30-06-2013  30-06-2013   30-06-2013   30-06-2013   \n",
       "Present_Tmax             28.7        31.9         31.6         32.0   \n",
       "Present_Tmin             21.4        21.6         23.3         23.4   \n",
       "LDAPS_RHmin         58.255688   52.263397    48.690479    58.239788   \n",
       "LDAPS_RHmax         91.116364   90.604721    83.973587    96.483688   \n",
       "LDAPS_Tmax_lapse    28.074101   29.850689    30.091292    29.704629   \n",
       "LDAPS_Tmin_lapse    23.006936   24.035009    24.565633    23.326177   \n",
       "LDAPS_WS             6.818887     5.69189     6.138224      5.65005   \n",
       "LDAPS_LH            69.451805   51.937448     20.57305    65.727144   \n",
       "LDAPS_CC1            0.233947    0.225508     0.209344     0.216372   \n",
       "LDAPS_CC2            0.203896    0.251771     0.257469     0.226002   \n",
       "LDAPS_CC3            0.161697    0.159444     0.204091     0.161157   \n",
       "LDAPS_CC4            0.130928    0.127727     0.142125     0.134249   \n",
       "LDAPS_PPT1                0.0         0.0          0.0          0.0   \n",
       "LDAPS_PPT2                0.0         0.0          0.0          0.0   \n",
       "LDAPS_PPT3                0.0         0.0          0.0          0.0   \n",
       "LDAPS_PPT4                0.0         0.0          0.0          0.0   \n",
       "lat                   37.6046     37.6046      37.5776       37.645   \n",
       "lon                   126.991     127.032      127.058      127.022   \n",
       "DEM                   212.335     44.7624      33.3068       45.716   \n",
       "Slope                   2.785      0.5141       0.2661       2.5348   \n",
       "Solar radiation   5992.895996   5869.3125  5863.555664  5856.964844   \n",
       "Next_Tmax                29.1        30.5         31.1         31.7   \n",
       "Next_Tmin                21.2        22.5         23.9         24.3   \n",
       "\n",
       "                            4  \n",
       "station                   5.0  \n",
       "Date               30-06-2013  \n",
       "Present_Tmax             31.4  \n",
       "Present_Tmin             21.9  \n",
       "LDAPS_RHmin         56.174095  \n",
       "LDAPS_RHmax         90.155128  \n",
       "LDAPS_Tmax_lapse    29.113934  \n",
       "LDAPS_Tmin_lapse     23.48648  \n",
       "LDAPS_WS             5.735004  \n",
       "LDAPS_LH           107.965535  \n",
       "LDAPS_CC1            0.151407  \n",
       "LDAPS_CC2            0.249995  \n",
       "LDAPS_CC3            0.178892  \n",
       "LDAPS_CC4            0.170021  \n",
       "LDAPS_PPT1                0.0  \n",
       "LDAPS_PPT2                0.0  \n",
       "LDAPS_PPT3                0.0  \n",
       "LDAPS_PPT4                0.0  \n",
       "lat                   37.5507  \n",
       "lon                   127.135  \n",
       "DEM                    35.038  \n",
       "Slope                  0.5055  \n",
       "Solar radiation   5859.552246  \n",
       "Next_Tmax                31.2  \n",
       "Next_Tmin                22.5  "
      ]
     },
     "execution_count": 2,
     "metadata": {},
     "output_type": "execute_result"
    }
   ],
   "source": [
    "data0 = pd.read_csv(\"https://github.com/dsrscientist/Dataset2/blob/main/temperature.csv\")\n",
    "data0[0:5].T"
   ]
  },
  {
   "cell_type": "code",
   "execution_count": 3,
   "id": "0494d05f",
   "metadata": {
    "execution": {
     "iopub.execute_input": "2021-07-12T07:59:10.664984Z",
     "iopub.status.busy": "2021-07-12T07:59:10.664361Z",
     "iopub.status.idle": "2021-07-12T07:59:10.687020Z",
     "shell.execute_reply": "2021-07-12T07:59:10.686445Z",
     "shell.execute_reply.started": "2021-07-12T07:55:47.922204Z"
    },
    "papermill": {
     "duration": 0.053498,
     "end_time": "2021-07-12T07:59:10.687169",
     "exception": false,
     "start_time": "2021-07-12T07:59:10.633671",
     "status": "completed"
    },
    "tags": []
   },
   "outputs": [
    {
     "name": "stdout",
     "output_type": "stream",
     "text": [
      "<class 'pandas.core.frame.DataFrame'>\n",
      "RangeIndex: 7752 entries, 0 to 7751\n",
      "Data columns (total 25 columns):\n",
      " #   Column            Non-Null Count  Dtype  \n",
      "---  ------            --------------  -----  \n",
      " 0   station           7750 non-null   float64\n",
      " 1   Date              7750 non-null   object \n",
      " 2   Present_Tmax      7682 non-null   float64\n",
      " 3   Present_Tmin      7682 non-null   float64\n",
      " 4   LDAPS_RHmin       7677 non-null   float64\n",
      " 5   LDAPS_RHmax       7677 non-null   float64\n",
      " 6   LDAPS_Tmax_lapse  7677 non-null   float64\n",
      " 7   LDAPS_Tmin_lapse  7677 non-null   float64\n",
      " 8   LDAPS_WS          7677 non-null   float64\n",
      " 9   LDAPS_LH          7677 non-null   float64\n",
      " 10  LDAPS_CC1         7677 non-null   float64\n",
      " 11  LDAPS_CC2         7677 non-null   float64\n",
      " 12  LDAPS_CC3         7677 non-null   float64\n",
      " 13  LDAPS_CC4         7677 non-null   float64\n",
      " 14  LDAPS_PPT1        7677 non-null   float64\n",
      " 15  LDAPS_PPT2        7677 non-null   float64\n",
      " 16  LDAPS_PPT3        7677 non-null   float64\n",
      " 17  LDAPS_PPT4        7677 non-null   float64\n",
      " 18  lat               7752 non-null   float64\n",
      " 19  lon               7752 non-null   float64\n",
      " 20  DEM               7752 non-null   float64\n",
      " 21  Slope             7752 non-null   float64\n",
      " 22  Solar radiation   7752 non-null   float64\n",
      " 23  Next_Tmax         7725 non-null   float64\n",
      " 24  Next_Tmin         7725 non-null   float64\n",
      "dtypes: float64(24), object(1)\n",
      "memory usage: 1.5+ MB\n"
     ]
    }
   ],
   "source": [
    "data0.info()"
   ]
  },
  {
   "cell_type": "code",
   "execution_count": 4,
   "id": "ee1585e5",
   "metadata": {
    "execution": {
     "iopub.execute_input": "2021-07-12T07:59:10.746968Z",
     "iopub.status.busy": "2021-07-12T07:59:10.746312Z",
     "iopub.status.idle": "2021-07-12T07:59:10.752408Z",
     "shell.execute_reply": "2021-07-12T07:59:10.752929Z",
     "shell.execute_reply.started": "2021-07-12T07:55:47.939075Z"
    },
    "papermill": {
     "duration": 0.037474,
     "end_time": "2021-07-12T07:59:10.753095",
     "exception": false,
     "start_time": "2021-07-12T07:59:10.715621",
     "status": "completed"
    },
    "tags": []
   },
   "outputs": [],
   "source": [
    "data0=data0.fillna(0)"
   ]
  },
  {
   "cell_type": "code",
   "execution_count": 5,
   "id": "66a2a608",
   "metadata": {
    "execution": {
     "iopub.execute_input": "2021-07-12T07:59:10.814400Z",
     "iopub.status.busy": "2021-07-12T07:59:10.813773Z",
     "iopub.status.idle": "2021-07-12T07:59:10.819937Z",
     "shell.execute_reply": "2021-07-12T07:59:10.819283Z",
     "shell.execute_reply.started": "2021-07-12T07:55:47.946897Z"
    },
    "papermill": {
     "duration": 0.037065,
     "end_time": "2021-07-12T07:59:10.820068",
     "exception": false,
     "start_time": "2021-07-12T07:59:10.783003",
     "status": "completed"
    },
    "tags": []
   },
   "outputs": [],
   "source": [
    "data0=data0.drop(['station','Date'],axis=1)"
   ]
  },
  {
   "cell_type": "markdown",
   "id": "26cbfe4d",
   "metadata": {
    "papermill": {
     "duration": 0.027395,
     "end_time": "2021-07-12T07:59:10.875875",
     "exception": false,
     "start_time": "2021-07-12T07:59:10.848480",
     "status": "completed"
    },
    "tags": []
   },
   "source": [
    "* station - used weather station number: 1 to 25\n",
    "* Date - Present day: yyyy-mm-dd ('2013-06-30' to '2017-08-30')\n",
    "* Present_Tmax - Maximum air temperature between 0 and 21 h on the present day (Â°C): 20 to 37.6\n",
    "* Present_Tmin - Minimum air temperature between 0 and 21 h on the present day (Â°C): 11.3 to 29.9\n",
    "* LDAPS_RHmin - LDAPS model forecast of next-day minimum relative humidity (%): 19.8 to 98.5\n",
    "* LDAPS_RHmax - LDAPS model forecast of next-day maximum relative humidity (%): 58.9 to 100\n",
    "* LDAPSTmaxlapse - LDAPS model forecast of next-day maximum air temperature applied lapse rate (Â°C): 17.6 to 38.5\n",
    "* LDAPSTminlapse - LDAPS model forecast of next-day minimum air temperature applied lapse rate (Â°C): 14.3 to 29.6\n",
    "* LDAPS_WS - LDAPS model forecast of next-day average wind speed (m/s): 2.9 to 21.9\n",
    "* LDAPS_LH - LDAPS model forecast of next-day average latent heat flux (W/m2): -13.6 to 213.4\n",
    "* LDAPS_CC1 - LDAPS model forecast of next-day 1st 6-hour split average cloud cover (0-5 h) (%): 0 to 0.97\n",
    "* LDAPS_CC2 - LDAPS model forecast of next-day 2nd 6-hour split average cloud cover (6-11 h) (%): 0 to 0.97\n",
    "* LDAPS_CC3 - LDAPS model forecast of next-day 3rd 6-hour split average cloud cover (12-17 h) (%): 0 to 0.98\n",
    "* LDAPS_CC4 - LDAPS model forecast of next-day 4th 6-hour split average cloud cover (18-23 h) (%): 0 to 0.97\n",
    "* LDAPS_PPT1 - LDAPS model forecast of next-day 1st 6-hour split average precipitation (0-5 h) (%): 0 to 23.7\n",
    "* LDAPS_PPT2 - LDAPS model forecast of next-day 2nd 6-hour split average precipitation (6-11 h) (%): 0 to 21.6\n",
    "* LDAPS_PPT3 - LDAPS model forecast of next-day 3rd 6-hour split average precipitation (12-17 h) (%): 0 to 15.8\n",
    "* LDAPS_PPT4 - LDAPS model forecast of next-day 4th 6-hour split average precipitation (18-23 h) (%): 0 to 16.7\n",
    "* lat - Latitude (Â°): 37.456 to 37.645\n",
    "* lon - Longitude (Â°): 126.826 to 127.135\n",
    "* DEM - Elevation (m): 12.4 to 212.3\n",
    "* Slope - Slope (Â°): 0.1 to 5.2\n",
    "* Solar radiation - Daily incoming solar radiation (wh/m2): 4329.5 to 5992.9\n",
    "* Next_Tmax - The next-day maximum air temperature (Â°C): 17.4 to 38.9\n",
    "* Next_Tmin - The next-day minimum air temperature (Â°C): 11.3 to 29.8T"
   ]
  },
  {
   "cell_type": "code",
   "execution_count": 6,
   "id": "a68aefce",
   "metadata": {
    "execution": {
     "iopub.execute_input": "2021-07-12T07:59:10.936534Z",
     "iopub.status.busy": "2021-07-12T07:59:10.935856Z",
     "iopub.status.idle": "2021-07-12T07:59:10.938969Z",
     "shell.execute_reply": "2021-07-12T07:59:10.939491Z",
     "shell.execute_reply.started": "2021-07-12T07:55:47.954785Z"
    },
    "papermill": {
     "duration": 0.03583,
     "end_time": "2021-07-12T07:59:10.939710",
     "exception": false,
     "start_time": "2021-07-12T07:59:10.903880",
     "status": "completed"
    },
    "tags": []
   },
   "outputs": [
    {
     "name": "stdout",
     "output_type": "stream",
     "text": [
      "['Present_Tmax', 'Present_Tmin', 'LDAPS_RHmin', 'LDAPS_RHmax', 'LDAPS_Tmax_lapse', 'LDAPS_Tmin_lapse', 'LDAPS_WS', 'LDAPS_LH', 'LDAPS_CC1', 'LDAPS_CC2', 'LDAPS_CC3', 'LDAPS_CC4', 'LDAPS_PPT1', 'LDAPS_PPT2', 'LDAPS_PPT3', 'LDAPS_PPT4', 'lat', 'lon', 'DEM', 'Slope', 'Solar radiation', 'Next_Tmax', 'Next_Tmin']\n"
     ]
    }
   ],
   "source": [
    "print(data0.columns.to_list())"
   ]
  },
  {
   "cell_type": "markdown",
   "id": "8364bc27",
   "metadata": {
    "papermill": {
     "duration": 0.028664,
     "end_time": "2021-07-12T07:59:10.997445",
     "exception": false,
     "start_time": "2021-07-12T07:59:10.968781",
     "status": "completed"
    },
    "tags": []
   },
   "source": [
    "# Target setting"
   ]
  },
  {
   "cell_type": "code",
   "execution_count": 7,
   "id": "6e94595b",
   "metadata": {
    "execution": {
     "iopub.execute_input": "2021-07-12T07:59:11.061485Z",
     "iopub.status.busy": "2021-07-12T07:59:11.060858Z",
     "iopub.status.idle": "2021-07-12T07:59:11.063778Z",
     "shell.execute_reply": "2021-07-12T07:59:11.063280Z",
     "shell.execute_reply.started": "2021-07-12T07:55:47.968312Z"
    },
    "papermill": {
     "duration": 0.037982,
     "end_time": "2021-07-12T07:59:11.063916",
     "exception": false,
     "start_time": "2021-07-12T07:59:11.025934",
     "status": "completed"
    },
    "tags": []
   },
   "outputs": [],
   "source": [
    "target=['Next_Tmax','Next_Tmin']\n",
    "datay=data0[target]\n",
    "datax=data0.drop(target,axis=1)"
   ]
  },
  {
   "cell_type": "code",
   "execution_count": 8,
   "id": "d48ba8dd",
   "metadata": {
    "execution": {
     "iopub.execute_input": "2021-07-12T07:59:11.133360Z",
     "iopub.status.busy": "2021-07-12T07:59:11.132548Z",
     "iopub.status.idle": "2021-07-12T07:59:11.136833Z",
     "shell.execute_reply": "2021-07-12T07:59:11.136304Z",
     "shell.execute_reply.started": "2021-07-12T07:55:47.981805Z"
    },
    "papermill": {
     "duration": 0.044193,
     "end_time": "2021-07-12T07:59:11.136966",
     "exception": false,
     "start_time": "2021-07-12T07:59:11.092773",
     "status": "completed"
    },
    "tags": []
   },
   "outputs": [
    {
     "name": "stdout",
     "output_type": "stream",
     "text": [
      "              0     1\n",
      "Next_Tmax  29.1  30.5\n",
      "Next_Tmin  21.2  22.5\n",
      "                            0            1\n",
      "Present_Tmax        28.700000    31.900000\n",
      "Present_Tmin        21.400000    21.600000\n",
      "LDAPS_RHmin         58.255688    52.263397\n",
      "LDAPS_RHmax         91.116364    90.604721\n",
      "LDAPS_Tmax_lapse    28.074101    29.850689\n",
      "LDAPS_Tmin_lapse    23.006936    24.035009\n",
      "LDAPS_WS             6.818887     5.691890\n",
      "LDAPS_LH            69.451805    51.937448\n",
      "LDAPS_CC1            0.233947     0.225508\n",
      "LDAPS_CC2            0.203896     0.251771\n",
      "LDAPS_CC3            0.161697     0.159444\n",
      "LDAPS_CC4            0.130928     0.127727\n",
      "LDAPS_PPT1           0.000000     0.000000\n",
      "LDAPS_PPT2           0.000000     0.000000\n",
      "LDAPS_PPT3           0.000000     0.000000\n",
      "LDAPS_PPT4           0.000000     0.000000\n",
      "lat                 37.604600    37.604600\n",
      "lon                126.991000   127.032000\n",
      "DEM                212.335000    44.762400\n",
      "Slope                2.785000     0.514100\n",
      "Solar radiation   5992.895996  5869.312500\n"
     ]
    }
   ],
   "source": [
    "print(datay[0:2].T)\n",
    "print(datax[0:2].T)"
   ]
  },
  {
   "cell_type": "code",
   "execution_count": 9,
   "id": "258fee5c",
   "metadata": {
    "execution": {
     "iopub.execute_input": "2021-07-12T07:59:11.200709Z",
     "iopub.status.busy": "2021-07-12T07:59:11.200031Z",
     "iopub.status.idle": "2021-07-12T07:59:11.202755Z",
     "shell.execute_reply": "2021-07-12T07:59:11.203417Z",
     "shell.execute_reply.started": "2021-07-12T07:55:48.003493Z"
    },
    "papermill": {
     "duration": 0.037604,
     "end_time": "2021-07-12T07:59:11.203822",
     "exception": false,
     "start_time": "2021-07-12T07:59:11.166218",
     "status": "completed"
    },
    "tags": []
   },
   "outputs": [
    {
     "name": "stdout",
     "output_type": "stream",
     "text": [
      "7752\n"
     ]
    }
   ],
   "source": [
    "n=len(data0)\n",
    "print(n)"
   ]
  },
  {
   "cell_type": "code",
   "execution_count": 10,
   "id": "db305c16",
   "metadata": {
    "execution": {
     "iopub.execute_input": "2021-07-12T07:59:11.266987Z",
     "iopub.status.busy": "2021-07-12T07:59:11.266357Z",
     "iopub.status.idle": "2021-07-12T07:59:11.279894Z",
     "shell.execute_reply": "2021-07-12T07:59:11.280401Z",
     "shell.execute_reply.started": "2021-07-12T07:55:48.016615Z"
    },
    "papermill": {
     "duration": 0.046336,
     "end_time": "2021-07-12T07:59:11.280574",
     "exception": false,
     "start_time": "2021-07-12T07:59:11.234238",
     "status": "completed"
    },
    "tags": []
   },
   "outputs": [],
   "source": [
    "N=[]\n",
    "for i in range(n):\n",
    "    N+=[i]\n",
    "random.shuffle(N)"
   ]
  },
  {
   "cell_type": "code",
   "execution_count": 11,
   "id": "44153178",
   "metadata": {
    "execution": {
     "iopub.execute_input": "2021-07-12T07:59:11.347863Z",
     "iopub.status.busy": "2021-07-12T07:59:11.347102Z",
     "iopub.status.idle": "2021-07-12T07:59:11.359392Z",
     "shell.execute_reply": "2021-07-12T07:59:11.358887Z",
     "shell.execute_reply.started": "2021-07-12T07:55:48.038906Z"
    },
    "papermill": {
     "duration": 0.049549,
     "end_time": "2021-07-12T07:59:11.359549",
     "exception": false,
     "start_time": "2021-07-12T07:59:11.310000",
     "status": "completed"
    },
    "tags": []
   },
   "outputs": [],
   "source": [
    "trainX=datax.loc[N[0:(n//4)*3]]\n",
    "trainY=datay.loc[N[0:(n//4)*3]]\n",
    "testX=datax.loc[N[(n//4)*3:]]\n",
    "testY=datay.loc[N[(n//4)*3:]]"
   ]
  },
  {
   "cell_type": "code",
   "execution_count": 12,
   "id": "98ac91f7",
   "metadata": {
    "execution": {
     "iopub.execute_input": "2021-07-12T07:59:11.424857Z",
     "iopub.status.busy": "2021-07-12T07:59:11.424200Z",
     "iopub.status.idle": "2021-07-12T07:59:11.426965Z",
     "shell.execute_reply": "2021-07-12T07:59:11.427661Z",
     "shell.execute_reply.started": "2021-07-12T07:55:48.062235Z"
    },
    "papermill": {
     "duration": 0.037739,
     "end_time": "2021-07-12T07:59:11.427910",
     "exception": false,
     "start_time": "2021-07-12T07:59:11.390171",
     "status": "completed"
    },
    "tags": []
   },
   "outputs": [
    {
     "name": "stdout",
     "output_type": "stream",
     "text": [
      "(5814, 21)\n",
      "(1938, 21)\n"
     ]
    }
   ],
   "source": [
    "print(trainX.shape)\n",
    "print(testX.shape)"
   ]
  },
  {
   "cell_type": "code",
   "execution_count": 13,
   "id": "f4528822",
   "metadata": {
    "execution": {
     "iopub.execute_input": "2021-07-12T07:59:11.491876Z",
     "iopub.status.busy": "2021-07-12T07:59:11.491244Z",
     "iopub.status.idle": "2021-07-12T07:59:11.496794Z",
     "shell.execute_reply": "2021-07-12T07:59:11.496157Z",
     "shell.execute_reply.started": "2021-07-12T07:55:48.068725Z"
    },
    "papermill": {
     "duration": 0.03813,
     "end_time": "2021-07-12T07:59:11.496932",
     "exception": false,
     "start_time": "2021-07-12T07:59:11.458802",
     "status": "completed"
    },
    "tags": []
   },
   "outputs": [
    {
     "name": "stdout",
     "output_type": "stream",
     "text": [
      "['Present_Tmax', 'Present_Tmin', 'LDAPS_RHmin', 'LDAPS_RHmax', 'LDAPS_Tmax_lapse', 'LDAPS_Tmin_lapse', 'LDAPS_WS', 'LDAPS_LH', 'LDAPS_CC1', 'LDAPS_CC2', 'LDAPS_CC3', 'LDAPS_CC4', 'LDAPS_PPT1', 'LDAPS_PPT2', 'LDAPS_PPT3', 'LDAPS_PPT4', 'lat', 'lon', 'DEM', 'Slope', 'Solar radiation']\n"
     ]
    }
   ],
   "source": [
    "df_columns = list(datax.columns)\n",
    "print(df_columns)"
   ]
  },
  {
   "cell_type": "code",
   "execution_count": 14,
   "id": "13012ab6",
   "metadata": {
    "execution": {
     "iopub.execute_input": "2021-07-12T07:59:11.562051Z",
     "iopub.status.busy": "2021-07-12T07:59:11.561411Z",
     "iopub.status.idle": "2021-07-12T07:59:11.564567Z",
     "shell.execute_reply": "2021-07-12T07:59:11.563941Z",
     "shell.execute_reply.started": "2021-07-12T07:55:48.080076Z"
    },
    "papermill": {
     "duration": 0.037668,
     "end_time": "2021-07-12T07:59:11.564731",
     "exception": false,
     "start_time": "2021-07-12T07:59:11.527063",
     "status": "completed"
    },
    "tags": []
   },
   "outputs": [],
   "source": [
    "train_df=trainX\n",
    "test_df=testX"
   ]
  },
  {
   "cell_type": "code",
   "execution_count": 15,
   "id": "984ce960",
   "metadata": {
    "execution": {
     "iopub.execute_input": "2021-07-12T07:59:11.631355Z",
     "iopub.status.busy": "2021-07-12T07:59:11.630631Z",
     "iopub.status.idle": "2021-07-12T07:59:11.633540Z",
     "shell.execute_reply": "2021-07-12T07:59:11.633029Z",
     "shell.execute_reply.started": "2021-07-12T07:55:48.092184Z"
    },
    "papermill": {
     "duration": 0.038727,
     "end_time": "2021-07-12T07:59:11.633672",
     "exception": false,
     "start_time": "2021-07-12T07:59:11.594945",
     "status": "completed"
    },
    "tags": []
   },
   "outputs": [],
   "source": [
    "train_df.columns=df_columns\n",
    "test_df.columns=df_columns"
   ]
  },
  {
   "cell_type": "code",
   "execution_count": 16,
   "id": "c9101a6c",
   "metadata": {
    "execution": {
     "iopub.execute_input": "2021-07-12T07:59:11.699298Z",
     "iopub.status.busy": "2021-07-12T07:59:11.698617Z",
     "iopub.status.idle": "2021-07-12T07:59:11.701887Z",
     "shell.execute_reply": "2021-07-12T07:59:11.701237Z",
     "shell.execute_reply.started": "2021-07-12T07:55:48.103132Z"
    },
    "papermill": {
     "duration": 0.037997,
     "end_time": "2021-07-12T07:59:11.702038",
     "exception": false,
     "start_time": "2021-07-12T07:59:11.664041",
     "status": "completed"
    },
    "tags": []
   },
   "outputs": [],
   "source": [
    "def create_numeric_feature(input_df):\n",
    "    use_columns = df_columns \n",
    "    return input_df[use_columns].copy()"
   ]
  },
  {
   "cell_type": "code",
   "execution_count": 17,
   "id": "2a983cce",
   "metadata": {
    "execution": {
     "iopub.execute_input": "2021-07-12T07:59:11.777466Z",
     "iopub.status.busy": "2021-07-12T07:59:11.776724Z",
     "iopub.status.idle": "2021-07-12T07:59:11.780206Z",
     "shell.execute_reply": "2021-07-12T07:59:11.780659Z",
     "shell.execute_reply.started": "2021-07-12T07:55:48.113616Z"
    },
    "papermill": {
     "duration": 0.048672,
     "end_time": "2021-07-12T07:59:11.780891",
     "exception": false,
     "start_time": "2021-07-12T07:59:11.732219",
     "status": "completed"
    },
    "tags": []
   },
   "outputs": [],
   "source": [
    "from contextlib import contextmanager\n",
    "from time import time\n",
    "\n",
    "class Timer:\n",
    "    def __init__(self, logger=None, format_str='{:.3f}[s]', prefix=None, suffix=None, sep=' '):\n",
    "\n",
    "        if prefix: format_str = str(prefix) + sep + format_str\n",
    "        if suffix: format_str = format_str + sep + str(suffix)\n",
    "        self.format_str = format_str\n",
    "        self.logger = logger\n",
    "        self.start = None\n",
    "        self.end = None\n",
    "\n",
    "    @property\n",
    "    def duration(self):\n",
    "        if self.end is None:\n",
    "            return 0\n",
    "        return self.end - self.start\n",
    "\n",
    "    def __enter__(self):\n",
    "        self.start = time()\n",
    "\n",
    "    def __exit__(self, exc_type, exc_val, exc_tb):\n",
    "        self.end = time()\n",
    "        out_str = self.format_str.format(self.duration)\n",
    "        if self.logger:\n",
    "            self.logger.info(out_str)\n",
    "        else:\n",
    "            print(out_str)"
   ]
  },
  {
   "cell_type": "code",
   "execution_count": 18,
   "id": "f88739bd",
   "metadata": {
    "execution": {
     "iopub.execute_input": "2021-07-12T07:59:11.849369Z",
     "iopub.status.busy": "2021-07-12T07:59:11.848743Z",
     "iopub.status.idle": "2021-07-12T07:59:11.851598Z",
     "shell.execute_reply": "2021-07-12T07:59:11.852129Z",
     "shell.execute_reply.started": "2021-07-12T07:55:48.129978Z"
    },
    "papermill": {
     "duration": 0.040099,
     "end_time": "2021-07-12T07:59:11.852297",
     "exception": false,
     "start_time": "2021-07-12T07:59:11.812198",
     "status": "completed"
    },
    "tags": []
   },
   "outputs": [],
   "source": [
    "from tqdm import tqdm\n",
    "\n",
    "def to_feature(input_df):\n",
    "\n",
    "    processors = [\n",
    "        create_numeric_feature,\n",
    "    ]\n",
    "    \n",
    "    out_df = pd.DataFrame()\n",
    "    \n",
    "    for func in tqdm(processors, total=len(processors)):\n",
    "        with Timer(prefix='create' + func.__name__ + ' '):\n",
    "            _df = func(input_df)\n",
    "\n",
    "        assert len(_df) == len(input_df), func.__name__\n",
    "        out_df = pd.concat([out_df, _df], axis=1)\n",
    "        \n",
    "    return out_df"
   ]
  },
  {
   "cell_type": "code",
   "execution_count": 19,
   "id": "cb4f4aa8",
   "metadata": {
    "execution": {
     "iopub.execute_input": "2021-07-12T07:59:11.919635Z",
     "iopub.status.busy": "2021-07-12T07:59:11.918979Z",
     "iopub.status.idle": "2021-07-12T07:59:11.935478Z",
     "shell.execute_reply": "2021-07-12T07:59:11.936036Z",
     "shell.execute_reply.started": "2021-07-12T07:55:48.141864Z"
    },
    "papermill": {
     "duration": 0.052935,
     "end_time": "2021-07-12T07:59:11.936219",
     "exception": false,
     "start_time": "2021-07-12T07:59:11.883284",
     "status": "completed"
    },
    "tags": []
   },
   "outputs": [
    {
     "name": "stderr",
     "output_type": "stream",
     "text": [
      "100%|██████████| 1/1 [00:00<00:00, 262.11it/s]\n",
      "100%|██████████| 1/1 [00:00<00:00, 539.04it/s]"
     ]
    },
    {
     "name": "stdout",
     "output_type": "stream",
     "text": [
      "createcreate_numeric_feature  0.003[s]\n",
      "createcreate_numeric_feature  0.001[s]\n"
     ]
    },
    {
     "name": "stderr",
     "output_type": "stream",
     "text": [
      "\n"
     ]
    }
   ],
   "source": [
    "train_feat_df = to_feature(train_df)\n",
    "test_feat_df = to_feature(test_df)"
   ]
  },
  {
   "cell_type": "markdown",
   "id": "0b3399ba",
   "metadata": {
    "papermill": {
     "duration": 0.031759,
     "end_time": "2021-07-12T07:59:12.000326",
     "exception": false,
     "start_time": "2021-07-12T07:59:11.968567",
     "status": "completed"
    },
    "tags": []
   },
   "source": [
    "# Model"
   ]
  },
  {
   "cell_type": "code",
   "execution_count": 20,
   "id": "2826eceb",
   "metadata": {
    "execution": {
     "iopub.execute_input": "2021-07-12T07:59:12.077041Z",
     "iopub.status.busy": "2021-07-12T07:59:12.076020Z",
     "iopub.status.idle": "2021-07-12T07:59:12.081115Z",
     "shell.execute_reply": "2021-07-12T07:59:12.081618Z",
     "shell.execute_reply.started": "2021-07-12T07:55:48.166191Z"
    },
    "papermill": {
     "duration": 0.049224,
     "end_time": "2021-07-12T07:59:12.081804",
     "exception": false,
     "start_time": "2021-07-12T07:59:12.032580",
     "status": "completed"
    },
    "tags": []
   },
   "outputs": [],
   "source": [
    "import lightgbm as lgbm\n",
    "from sklearn.metrics import mean_squared_error\n",
    "\n",
    "def fit_lgbm(X, y, cv, \n",
    "             params: dict=None, \n",
    "             verbose: int=50):\n",
    "\n",
    "    if params is None:\n",
    "        params = {}\n",
    "\n",
    "    models = []\n",
    "    oof_pred = np.zeros_like(y, dtype=np.float)\n",
    "\n",
    "    for i, (idx_train, idx_valid) in enumerate(cv): \n",
    "        x_train, y_train = X[idx_train], y[idx_train]\n",
    "        x_valid, y_valid = X[idx_valid], y[idx_valid]\n",
    "\n",
    "        clf = lgbm.LGBMRegressor(**params)\n",
    "        \n",
    "        with Timer(prefix='fit fold={} '.format(i)):\n",
    "            clf.fit(x_train, y_train, \n",
    "                    eval_set=[(x_valid, y_valid)],  \n",
    "                    early_stopping_rounds=100,\n",
    "                    verbose=verbose)\n",
    "\n",
    "        pred_i = clf.predict(x_valid)\n",
    "        oof_pred[idx_valid] = pred_i\n",
    "        models.append(clf)\n",
    "        print(f'Fold {i} RMSLE: {mean_squared_error(y_valid, pred_i) ** .5:.4f}')\n",
    "        print()\n",
    "\n",
    "    score = mean_squared_error(y, oof_pred) ** .5\n",
    "    print('-' * 50)\n",
    "    print('FINISHED | Whole RMSLE: {:.4f}'.format(score))\n",
    "    return oof_pred, models"
   ]
  },
  {
   "cell_type": "code",
   "execution_count": 21,
   "id": "974024f2",
   "metadata": {
    "execution": {
     "iopub.execute_input": "2021-07-12T07:59:12.152764Z",
     "iopub.status.busy": "2021-07-12T07:59:12.152101Z",
     "iopub.status.idle": "2021-07-12T07:59:12.155659Z",
     "shell.execute_reply": "2021-07-12T07:59:12.155109Z",
     "shell.execute_reply.started": "2021-07-12T07:55:48.177225Z"
    },
    "papermill": {
     "duration": 0.041934,
     "end_time": "2021-07-12T07:59:12.155831",
     "exception": false,
     "start_time": "2021-07-12T07:59:12.113897",
     "status": "completed"
    },
    "tags": []
   },
   "outputs": [],
   "source": [
    "params = {\n",
    "    'objective': 'rmse', \n",
    "    'learning_rate': .1,\n",
    "    'reg_lambda': 1.,\n",
    "    'reg_alpha': .1,\n",
    "    'max_depth': 5, \n",
    "    'n_estimators': 10000, \n",
    "    'colsample_bytree': .5, \n",
    "    'min_child_samples': 10,\n",
    "    'subsample_freq': 3,\n",
    "    'subsample': .9,\n",
    "    'importance_type': 'gain', \n",
    "    'random_state': 71,\n",
    "    'num_leaves': 62\n",
    "}"
   ]
  },
  {
   "cell_type": "code",
   "execution_count": 22,
   "id": "7d6f70a8",
   "metadata": {
    "execution": {
     "iopub.execute_input": "2021-07-12T07:59:12.235125Z",
     "iopub.status.busy": "2021-07-12T07:59:12.234445Z",
     "iopub.status.idle": "2021-07-12T07:59:12.240251Z",
     "shell.execute_reply": "2021-07-12T07:59:12.241072Z",
     "shell.execute_reply.started": "2021-07-12T07:55:48.196472Z"
    },
    "papermill": {
     "duration": 0.053083,
     "end_time": "2021-07-12T07:59:12.241271",
     "exception": false,
     "start_time": "2021-07-12T07:59:12.188188",
     "status": "completed"
    },
    "tags": []
   },
   "outputs": [
    {
     "name": "stdout",
     "output_type": "stream",
     "text": [
      "(5814, 2)\n"
     ]
    },
    {
     "data": {
      "text/html": [
       "<div>\n",
       "<style scoped>\n",
       "    .dataframe tbody tr th:only-of-type {\n",
       "        vertical-align: middle;\n",
       "    }\n",
       "\n",
       "    .dataframe tbody tr th {\n",
       "        vertical-align: top;\n",
       "    }\n",
       "\n",
       "    .dataframe thead th {\n",
       "        text-align: right;\n",
       "    }\n",
       "</style>\n",
       "<table border=\"1\" class=\"dataframe\">\n",
       "  <thead>\n",
       "    <tr style=\"text-align: right;\">\n",
       "      <th></th>\n",
       "      <th>Next_Tmax</th>\n",
       "      <th>Next_Tmin</th>\n",
       "    </tr>\n",
       "  </thead>\n",
       "  <tbody>\n",
       "    <tr>\n",
       "      <th>3791</th>\n",
       "      <td>32.6</td>\n",
       "      <td>24.1</td>\n",
       "    </tr>\n",
       "    <tr>\n",
       "      <th>6851</th>\n",
       "      <td>28.5</td>\n",
       "      <td>23.4</td>\n",
       "    </tr>\n",
       "    <tr>\n",
       "      <th>5705</th>\n",
       "      <td>35.9</td>\n",
       "      <td>27.4</td>\n",
       "    </tr>\n",
       "    <tr>\n",
       "      <th>356</th>\n",
       "      <td>29.8</td>\n",
       "      <td>23.9</td>\n",
       "    </tr>\n",
       "    <tr>\n",
       "      <th>6745</th>\n",
       "      <td>32.1</td>\n",
       "      <td>27.5</td>\n",
       "    </tr>\n",
       "    <tr>\n",
       "      <th>...</th>\n",
       "      <td>...</td>\n",
       "      <td>...</td>\n",
       "    </tr>\n",
       "    <tr>\n",
       "      <th>7383</th>\n",
       "      <td>28.9</td>\n",
       "      <td>21.8</td>\n",
       "    </tr>\n",
       "    <tr>\n",
       "      <th>4989</th>\n",
       "      <td>31.6</td>\n",
       "      <td>23.3</td>\n",
       "    </tr>\n",
       "    <tr>\n",
       "      <th>6327</th>\n",
       "      <td>33.0</td>\n",
       "      <td>23.4</td>\n",
       "    </tr>\n",
       "    <tr>\n",
       "      <th>124</th>\n",
       "      <td>31.4</td>\n",
       "      <td>22.2</td>\n",
       "    </tr>\n",
       "    <tr>\n",
       "      <th>6134</th>\n",
       "      <td>26.3</td>\n",
       "      <td>14.1</td>\n",
       "    </tr>\n",
       "  </tbody>\n",
       "</table>\n",
       "<p>5814 rows × 2 columns</p>\n",
       "</div>"
      ],
      "text/plain": [
       "      Next_Tmax  Next_Tmin\n",
       "3791       32.6       24.1\n",
       "6851       28.5       23.4\n",
       "5705       35.9       27.4\n",
       "356        29.8       23.9\n",
       "6745       32.1       27.5\n",
       "...         ...        ...\n",
       "7383       28.9       21.8\n",
       "4989       31.6       23.3\n",
       "6327       33.0       23.4\n",
       "124        31.4       22.2\n",
       "6134       26.3       14.1\n",
       "\n",
       "[5814 rows x 2 columns]"
      ]
     },
     "execution_count": 22,
     "metadata": {},
     "output_type": "execute_result"
    }
   ],
   "source": [
    "y = trainY\n",
    "print(y.shape)\n",
    "ydf=pd.DataFrame(y)\n",
    "ydf"
   ]
  },
  {
   "cell_type": "code",
   "execution_count": 23,
   "id": "8d491b6e",
   "metadata": {
    "execution": {
     "iopub.execute_input": "2021-07-12T07:59:12.316877Z",
     "iopub.status.busy": "2021-07-12T07:59:12.316154Z",
     "iopub.status.idle": "2021-07-12T07:59:16.788647Z",
     "shell.execute_reply": "2021-07-12T07:59:16.789177Z",
     "shell.execute_reply.started": "2021-07-12T07:55:48.223310Z"
    },
    "papermill": {
     "duration": 4.514477,
     "end_time": "2021-07-12T07:59:16.789347",
     "exception": false,
     "start_time": "2021-07-12T07:59:12.274870",
     "status": "completed"
    },
    "tags": []
   },
   "outputs": [
    {
     "name": "stdout",
     "output_type": "stream",
     "text": [
      "Training until validation scores don't improve for 100 rounds\n",
      "Early stopping, best iteration is:\n",
      "[206]\tvalid_0's rmse: 2.55088\n",
      "fit fold=0  0.434[s]\n",
      "Fold 0 RMSLE: 2.5509\n",
      "\n",
      "Training until validation scores don't improve for 100 rounds\n",
      "Early stopping, best iteration is:\n",
      "[63]\tvalid_0's rmse: 1.83306\n",
      "fit fold=1  0.217[s]\n",
      "Fold 1 RMSLE: 1.8331\n",
      "\n",
      "Training until validation scores don't improve for 100 rounds\n",
      "[500]\tvalid_0's rmse: 2.32753\n",
      "Early stopping, best iteration is:\n",
      "[458]\tvalid_0's rmse: 2.32434\n",
      "fit fold=2  0.696[s]\n",
      "Fold 2 RMSLE: 2.3243\n",
      "\n",
      "Training until validation scores don't improve for 100 rounds\n",
      "Early stopping, best iteration is:\n",
      "[201]\tvalid_0's rmse: 2.28886\n",
      "fit fold=3  0.374[s]\n",
      "Fold 3 RMSLE: 2.2889\n",
      "\n",
      "Training until validation scores don't improve for 100 rounds\n",
      "Early stopping, best iteration is:\n",
      "[61]\tvalid_0's rmse: 1.38392\n",
      "fit fold=4  0.210[s]\n",
      "Fold 4 RMSLE: 1.3839\n",
      "\n",
      "--------------------------------------------------\n",
      "FINISHED | Whole RMSLE: 2.1178\n",
      "Training until validation scores don't improve for 100 rounds\n",
      "Early stopping, best iteration is:\n",
      "[96]\tvalid_0's rmse: 1.97856\n",
      "fit fold=0  0.246[s]\n",
      "Fold 0 RMSLE: 1.9786\n",
      "\n",
      "Training until validation scores don't improve for 100 rounds\n",
      "Early stopping, best iteration is:\n",
      "[75]\tvalid_0's rmse: 1.43005\n",
      "fit fold=1  0.240[s]\n",
      "Fold 1 RMSLE: 1.4301\n",
      "\n",
      "Training until validation scores don't improve for 100 rounds\n",
      "Early stopping, best iteration is:\n",
      "[255]\tvalid_0's rmse: 1.7813\n",
      "fit fold=2  0.515[s]\n",
      "Fold 2 RMSLE: 1.7813\n",
      "\n",
      "Training until validation scores don't improve for 100 rounds\n",
      "Early stopping, best iteration is:\n",
      "[276]\tvalid_0's rmse: 1.77923\n",
      "fit fold=3  0.430[s]\n",
      "Fold 3 RMSLE: 1.7792\n",
      "\n",
      "Training until validation scores don't improve for 100 rounds\n",
      "[500]\tvalid_0's rmse: 1.04581\n",
      "Early stopping, best iteration is:\n",
      "[404]\tvalid_0's rmse: 1.03846\n",
      "fit fold=4  0.599[s]\n",
      "Fold 4 RMSLE: 1.0385\n",
      "\n",
      "--------------------------------------------------\n",
      "FINISHED | Whole RMSLE: 1.6357\n"
     ]
    },
    {
     "data": {
      "image/png": "[encoded data removed]",
      "text/plain": [
       "<Figure size 432x432 with 1 Axes>"
      ]
     },
     "metadata": {
      "needs_background": "light"
     },
     "output_type": "display_data"
    },
    {
     "data": {
      "image/png": "[encoded data removed]",
      "text/plain": [
       "<Figure size 432x432 with 1 Axes>"
      ]
     },
     "metadata": {
      "needs_background": "light"
     },
     "output_type": "display_data"
    }
   ],
   "source": [
    "from sklearn.model_selection import KFold\n",
    "\n",
    "for i in range(2):\n",
    "    fold = KFold(n_splits=5, shuffle=True, random_state=71)\n",
    "    ydfi=ydf.iloc[:,i]\n",
    "    y=np.array(ydfi)\n",
    "    cv = list(fold.split(train_feat_df, y))\n",
    "    oof, models = fit_lgbm(train_feat_df.values, y, cv, params=params, verbose=500)\n",
    "    \n",
    "    fig,ax = plt.subplots(figsize=(6,6))\n",
    "    ax.set_title(target[i],fontsize=20)\n",
    "    ax.set_xlabel('oof '+str(i),fontsize=12)\n",
    "    ax.set_ylabel('train_y '+str(i),fontsize=12)\n",
    "    ax.scatter(oof,y)"
   ]
  },
  {
   "cell_type": "code",
   "execution_count": 24,
   "id": "fc2eeff2",
   "metadata": {
    "execution": {
     "iopub.execute_input": "2021-07-12T07:59:16.870840Z",
     "iopub.status.busy": "2021-07-12T07:59:16.870204Z",
     "iopub.status.idle": "2021-07-12T07:59:16.873225Z",
     "shell.execute_reply": "2021-07-12T07:59:16.872685Z",
     "shell.execute_reply.started": "2021-07-12T07:55:52.569948Z"
    },
    "papermill": {
     "duration": 0.04518,
     "end_time": "2021-07-12T07:59:16.873354",
     "exception": false,
     "start_time": "2021-07-12T07:59:16.828174",
     "status": "completed"
    },
    "tags": []
   },
   "outputs": [
    {
     "name": "stdout",
     "output_type": "stream",
     "text": [
      "['Next_Tmax', 'Next_Tmin']\n"
     ]
    }
   ],
   "source": [
    "print(target)"
   ]
  },
  {
   "cell_type": "markdown",
   "id": "d313bd88",
   "metadata": {
    "papermill": {
     "duration": 0.037256,
     "end_time": "2021-07-12T07:59:16.948309",
     "exception": false,
     "start_time": "2021-07-12T07:59:16.911053",
     "status": "completed"
    },
    "tags": []
   },
   "source": [
    "# Visualize Importance and Predict"
   ]
  },
  {
   "cell_type": "code",
   "execution_count": 25,
   "id": "68c6bf9a",
   "metadata": {
    "execution": {
     "iopub.execute_input": "2021-07-12T07:59:17.034561Z",
     "iopub.status.busy": "2021-07-12T07:59:17.033561Z",
     "iopub.status.idle": "2021-07-12T07:59:17.036068Z",
     "shell.execute_reply": "2021-07-12T07:59:17.036509Z",
     "shell.execute_reply.started": "2021-07-12T07:55:52.577398Z"
    },
    "papermill": {
     "duration": 0.049715,
     "end_time": "2021-07-12T07:59:17.036687",
     "exception": false,
     "start_time": "2021-07-12T07:59:16.986972",
     "status": "completed"
    },
    "tags": []
   },
   "outputs": [],
   "source": [
    "def visualize_importance(models, feat_train_df):\n",
    "\n",
    "    feature_importance_df = pd.DataFrame()\n",
    "    for i, model in enumerate(models):\n",
    "        _df = pd.DataFrame()\n",
    "        _df['feature_importance'] = model.feature_importances_\n",
    "        _df['column'] = feat_train_df.columns\n",
    "        _df['fold'] = i + 1\n",
    "        feature_importance_df = pd.concat([feature_importance_df, _df], \n",
    "                                          axis=0, ignore_index=True)\n",
    "\n",
    "    order = feature_importance_df.groupby('column')\\\n",
    "        .sum()[['feature_importance']]\\\n",
    "        .sort_values('feature_importance', ascending=False).index[:50]\n",
    "\n",
    "    fig, ax = plt.subplots(figsize=(8, max(6, len(order) * .25)))\n",
    "    sns.boxenplot(data=feature_importance_df, \n",
    "                  x='feature_importance', \n",
    "                  y='column', \n",
    "                  order=order, \n",
    "                  ax=ax, \n",
    "                  palette='viridis', \n",
    "                  orient='h')\n",
    "    \n",
    "    ax.tick_params(axis='x', rotation=0)\n",
    "    #ax.set_title('Importance')\n",
    "    ax.grid()\n",
    "    fig.tight_layout()\n",
    "    \n",
    "    return fig,ax\n",
    "\n",
    "#fig, ax = visualize_importance(models, train_feat_df)"
   ]
  },
  {
   "cell_type": "code",
   "execution_count": 26,
   "id": "24fae234",
   "metadata": {
    "execution": {
     "iopub.execute_input": "2021-07-12T07:59:17.121807Z",
     "iopub.status.busy": "2021-07-12T07:59:17.120847Z",
     "iopub.status.idle": "2021-07-12T07:59:22.545877Z",
     "shell.execute_reply": "2021-07-12T07:59:22.545338Z",
     "shell.execute_reply.started": "2021-07-12T07:55:52.588164Z"
    },
    "papermill": {
     "duration": 5.471036,
     "end_time": "2021-07-12T07:59:22.546025",
     "exception": false,
     "start_time": "2021-07-12T07:59:17.074989",
     "status": "completed"
    },
    "tags": []
   },
   "outputs": [
    {
     "name": "stdout",
     "output_type": "stream",
     "text": [
      "Training until validation scores don't improve for 100 rounds\n",
      "Early stopping, best iteration is:\n",
      "[206]\tvalid_0's rmse: 2.55088\n",
      "fit fold=0  0.373[s]\n",
      "Fold 0 RMSLE: 2.5509\n",
      "\n",
      "Training until validation scores don't improve for 100 rounds\n",
      "Early stopping, best iteration is:\n",
      "[63]\tvalid_0's rmse: 1.83306\n",
      "fit fold=1  0.215[s]\n",
      "Fold 1 RMSLE: 1.8331\n",
      "\n",
      "Training until validation scores don't improve for 100 rounds\n",
      "[500]\tvalid_0's rmse: 2.32753\n",
      "Early stopping, best iteration is:\n",
      "[458]\tvalid_0's rmse: 2.32434\n",
      "fit fold=2  0.657[s]\n",
      "Fold 2 RMSLE: 2.3243\n",
      "\n",
      "Training until validation scores don't improve for 100 rounds\n",
      "Early stopping, best iteration is:\n",
      "[201]\tvalid_0's rmse: 2.28886\n",
      "fit fold=3  0.358[s]\n",
      "Fold 3 RMSLE: 2.2889\n",
      "\n",
      "Training until validation scores don't improve for 100 rounds\n",
      "Early stopping, best iteration is:\n",
      "[61]\tvalid_0's rmse: 1.38392\n",
      "fit fold=4  0.210[s]\n",
      "Fold 4 RMSLE: 1.3839\n",
      "\n",
      "--------------------------------------------------\n",
      "FINISHED | Whole RMSLE: 2.1178\n",
      "Training until validation scores don't improve for 100 rounds\n",
      "Early stopping, best iteration is:\n",
      "[96]\tvalid_0's rmse: 1.97856\n",
      "fit fold=0  0.268[s]\n",
      "Fold 0 RMSLE: 1.9786\n",
      "\n",
      "Training until validation scores don't improve for 100 rounds\n",
      "Early stopping, best iteration is:\n",
      "[75]\tvalid_0's rmse: 1.43005\n",
      "fit fold=1  0.222[s]\n",
      "Fold 1 RMSLE: 1.4301\n",
      "\n",
      "Training until validation scores don't improve for 100 rounds\n",
      "Early stopping, best iteration is:\n",
      "[255]\tvalid_0's rmse: 1.7813\n",
      "fit fold=2  0.445[s]\n",
      "Fold 2 RMSLE: 1.7813\n",
      "\n",
      "Training until validation scores don't improve for 100 rounds\n",
      "Early stopping, best iteration is:\n",
      "[276]\tvalid_0's rmse: 1.77923\n",
      "fit fold=3  0.440[s]\n",
      "Fold 3 RMSLE: 1.7792\n",
      "\n",
      "Training until validation scores don't improve for 100 rounds\n",
      "[500]\tvalid_0's rmse: 1.04581\n",
      "Early stopping, best iteration is:\n",
      "[404]\tvalid_0's rmse: 1.03846\n",
      "fit fold=4  0.606[s]\n",
      "Fold 4 RMSLE: 1.0385\n",
      "\n",
      "--------------------------------------------------\n",
      "FINISHED | Whole RMSLE: 1.6357\n"
     ]
    },
    {
     "data": {
      "image/png": "[encoded data removed]",
      "text/plain": [
       "<Figure size 576x432 with 1 Axes>"
      ]
     },
     "metadata": {
      "needs_background": "light"
     },
     "output_type": "display_data"
    },
    {
     "data": {
      "image/png": "[encoded data removed]",
      "text/plain": [
       "<Figure size 576x432 with 1 Axes>"
      ]
     },
     "metadata": {
      "needs_background": "light"
     },
     "output_type": "display_data"
    }
   ],
   "source": [
    "pred1=[]\n",
    "for i in range(2):\n",
    "    fold = KFold(n_splits=5, shuffle=True, random_state=71)\n",
    "    ydfi=ydf.iloc[:,i]\n",
    "    y=np.array(ydfi)\n",
    "    cv = list(fold.split(train_feat_df, y))\n",
    "    oof, models = fit_lgbm(train_feat_df.values, y, cv, params=params, verbose=500)\n",
    "    fig, ax = visualize_importance(models, train_feat_df)\n",
    "    ax.set_title(target[i]+' Imortance',fontsize=20)\n",
    "    pred0 = np.array([model.predict(test_feat_df.values) for model in models])\n",
    "    pred1+=[np.mean(pred0, axis=0)]"
   ]
  },
  {
   "cell_type": "code",
   "execution_count": 27,
   "id": "344870dd",
   "metadata": {
    "execution": {
     "iopub.execute_input": "2021-07-12T07:59:22.642842Z",
     "iopub.status.busy": "2021-07-12T07:59:22.642107Z",
     "iopub.status.idle": "2021-07-12T07:59:22.645123Z",
     "shell.execute_reply": "2021-07-12T07:59:22.644594Z",
     "shell.execute_reply.started": "2021-07-12T07:55:58.206542Z"
    },
    "papermill": {
     "duration": 0.052792,
     "end_time": "2021-07-12T07:59:22.645254",
     "exception": false,
     "start_time": "2021-07-12T07:59:22.592462",
     "status": "completed"
    },
    "tags": []
   },
   "outputs": [],
   "source": [
    "pred1=np.array(pred1)\n",
    "testY=np.array(testY)"
   ]
  },
  {
   "cell_type": "code",
   "execution_count": 28,
   "id": "88dab5ec",
   "metadata": {
    "execution": {
     "iopub.execute_input": "2021-07-12T07:59:22.738942Z",
     "iopub.status.busy": "2021-07-12T07:59:22.737959Z",
     "iopub.status.idle": "2021-07-12T07:59:22.744305Z",
     "shell.execute_reply": "2021-07-12T07:59:22.745028Z",
     "shell.execute_reply.started": "2021-07-12T07:55:58.213699Z"
    },
    "papermill": {
     "duration": 0.054848,
     "end_time": "2021-07-12T07:59:22.745265",
     "exception": false,
     "start_time": "2021-07-12T07:59:22.690417",
     "status": "completed"
    },
    "tags": []
   },
   "outputs": [
    {
     "name": "stdout",
     "output_type": "stream",
     "text": [
      "(1938, 2)\n",
      "(1938, 2)\n"
     ]
    }
   ],
   "source": [
    "print(pred1.T.shape)\n",
    "print(testY.shape)"
   ]
  },
  {
   "cell_type": "code",
   "execution_count": 29,
   "id": "6e311a6d",
   "metadata": {
    "execution": {
     "iopub.execute_input": "2021-07-12T07:59:22.864758Z",
     "iopub.status.busy": "2021-07-12T07:59:22.863713Z",
     "iopub.status.idle": "2021-07-12T07:59:23.240588Z",
     "shell.execute_reply": "2021-07-12T07:59:23.240050Z",
     "shell.execute_reply.started": "2021-07-12T07:55:58.234998Z"
    },
    "papermill": {
     "duration": 0.449631,
     "end_time": "2021-07-12T07:59:23.240738",
     "exception": false,
     "start_time": "2021-07-12T07:59:22.791107",
     "status": "completed"
    },
    "tags": []
   },
   "outputs": [
    {
     "data": {
      "image/png": "[encoded data removed]",
      "text/plain": [
       "<Figure size 432x432 with 1 Axes>"
      ]
     },
     "metadata": {
      "needs_background": "light"
     },
     "output_type": "display_data"
    },
    {
     "data": {
      "image/png": "[encoded data removed]",
      "text/plain": [
       "<Figure size 432x432 with 1 Axes>"
      ]
     },
     "metadata": {
      "needs_background": "light"
     },
     "output_type": "display_data"
    }
   ],
   "source": [
    "for i in range(2):\n",
    "    fig,ax = plt.subplots(figsize=(6,6))\n",
    "    ax.set_title(target[i],fontsize=20)\n",
    "    ax.set_xlabel('ACTUAL '+target[i],fontsize=12)\n",
    "    ax.set_ylabel('PRDICTED '+target[i],fontsize=12)\n",
    "    ax.scatter(testY[:,i],pred1.T[:,i])"
   ]
  },
  {
   "cell_type": "code",
   "execution_count": null,
   "id": "fc1b712b",
   "metadata": {
    "papermill": {
     "duration": 0.051886,
     "end_time": "2021-07-12T07:59:23.340156",
     "exception": false,
     "start_time": "2021-07-12T07:59:23.288270",
     "status": "completed"
    },
    "tags": []
   },
   "outputs": [],
   "source": []
  }
 ],
 "metadata": {
  "kernelspec": {
   "display_name": "Python 3 (ipykernel)",
   "language": "python",
   "name": "python3"
  },
  "language_info": {
   "codemirror_mode": {
    "name": "ipython",
    "version": 3
   },
   "file_extension": ".py",
   "mimetype": "text/x-python",
   "name": "python",
   "nbconvert_exporter": "python",
   "pygments_lexer": "ipython3",
   "version": "3.9.13"
  },
  "papermill": {
   "default_parameters": {},
   "duration": 30.809428,
   "end_time": "2021-07-12T07:59:25.571013",
   "environment_variables": {},
   "exception": null,
   "input_path": "__notebook__.ipynb",
   "output_path": "__notebook__.ipynb",
   "parameters": {},
   "start_time": "2021-07-12T07:58:54.761585",
   "version": "2.3.3"
  }
 },
 "nbformat": 4,
 "nbformat_minor": 5
}
